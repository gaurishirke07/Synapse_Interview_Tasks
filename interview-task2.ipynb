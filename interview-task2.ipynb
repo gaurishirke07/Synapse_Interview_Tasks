{
 "cells": [
  {
   "cell_type": "markdown",
   "id": "bf8a49e9",
   "metadata": {
    "papermill": {
     "duration": 0.006701,
     "end_time": "2025-09-01T15:27:21.592545",
     "exception": false,
     "start_time": "2025-09-01T15:27:21.585844",
     "status": "completed"
    },
    "tags": []
   },
   "source": [
    "# Instructions \n",
    "\n",
    "- Make sure you’re logged into Kaggle.\n",
    "- Load the **Video Game Sales dataset** (CSV file is provided in the Kaggle input section).  \n",
    "- Carefully read through each step and run the cells in order.  \n",
    "- Do **not** skip steps — each builds on the previous one.  \n",
    "- Add your own observations wherever possible, especially when exploring graphs.  \n",
    "- Remember: This is practice for real-world data preprocessing + EDA, so try to think *why* each step is done, not just *how*.  \n",
    "- At the end, feel free to explore further — add more plots, groupbys, or questions you want to answer!  \n",
    "\n"
   ]
  },
  {
   "cell_type": "markdown",
   "id": "75285a6a",
   "metadata": {
    "papermill": {
     "duration": 0.005417,
     "end_time": "2025-09-01T15:27:21.603835",
     "exception": false,
     "start_time": "2025-09-01T15:27:21.598418",
     "status": "completed"
    },
    "tags": []
   },
   "source": [
    "Welcome to your next checkpoint on the Synapse road!\n",
    "Today we’re diving into the Video Game Sales dataset to practice real-world data preprocessing + EDA. Think of this like prepping ingredients before cooking — we’ll clean, slice, and plate the data so insights pop 🍽️"
   ]
  },
  {
   "cell_type": "markdown",
   "id": "503bd8d6",
   "metadata": {
    "papermill": {
     "duration": 0.005388,
     "end_time": "2025-09-01T15:27:21.614868",
     "exception": false,
     "start_time": "2025-09-01T15:27:21.609480",
     "status": "completed"
    },
    "tags": []
   },
   "source": [
    "We’ll be using pandas, numpy, matplotlib, and seaborn for this task.\n",
    "Run the following cell to import them"
   ]
  },
  {
   "cell_type": "code",
   "execution_count": 1,
   "id": "4e8ac431",
   "metadata": {
    "execution": {
     "iopub.execute_input": "2025-09-01T15:27:21.628354Z",
     "iopub.status.busy": "2025-09-01T15:27:21.627251Z",
     "iopub.status.idle": "2025-09-01T15:27:26.412462Z",
     "shell.execute_reply": "2025-09-01T15:27:26.411525Z"
    },
    "papermill": {
     "duration": 4.79372,
     "end_time": "2025-09-01T15:27:26.414209",
     "exception": false,
     "start_time": "2025-09-01T15:27:21.620489",
     "status": "completed"
    },
    "tags": []
   },
   "outputs": [],
   "source": [
    "import pandas as pd\n",
    "import numpy as np\n",
    "import matplotlib.pyplot as plt\n",
    "import seaborn as sns"
   ]
  },
  {
   "cell_type": "markdown",
   "id": "555c9892",
   "metadata": {
    "papermill": {
     "duration": 0.005419,
     "end_time": "2025-09-01T15:27:26.425503",
     "exception": false,
     "start_time": "2025-09-01T15:27:26.420084",
     "status": "completed"
    },
    "tags": []
   },
   "source": [
    "Alright, now that we’ve got our tools ready, let’s bring in the star of the show — the **Video Game Sales dataset** 🎮  \n",
    "\n",
    "Your task:  \n",
    "- Load the dataset into a pandas DataFrame.  \n",
    "- Take a quick peek at the first few rows using.  \n",
    "- Check the shape of the dataset to see how big this universe is.  \n",
    "\n",
    "Think of this step as unboxing a new console — gotta see what’s inside first!  \n"
   ]
  },
  {
   "cell_type": "code",
   "execution_count": 2,
   "id": "da2d8c76",
   "metadata": {
    "execution": {
     "iopub.execute_input": "2025-09-01T15:27:26.438119Z",
     "iopub.status.busy": "2025-09-01T15:27:26.437662Z",
     "iopub.status.idle": "2025-09-01T15:27:26.526598Z",
     "shell.execute_reply": "2025-09-01T15:27:26.525476Z"
    },
    "papermill": {
     "duration": 0.097371,
     "end_time": "2025-09-01T15:27:26.528486",
     "exception": false,
     "start_time": "2025-09-01T15:27:26.431115",
     "status": "completed"
    },
    "tags": []
   },
   "outputs": [],
   "source": [
    "df = pd.read_csv('../input/videogamesales/vgsales.csv')"
   ]
  },
  {
   "cell_type": "code",
   "execution_count": 3,
   "id": "31e80543",
   "metadata": {
    "execution": {
     "iopub.execute_input": "2025-09-01T15:27:26.542273Z",
     "iopub.status.busy": "2025-09-01T15:27:26.541928Z",
     "iopub.status.idle": "2025-09-01T15:27:26.577735Z",
     "shell.execute_reply": "2025-09-01T15:27:26.576588Z"
    },
    "papermill": {
     "duration": 0.045279,
     "end_time": "2025-09-01T15:27:26.579595",
     "exception": false,
     "start_time": "2025-09-01T15:27:26.534316",
     "status": "completed"
    },
    "tags": []
   },
   "outputs": [
    {
     "data": {
      "text/html": [
       "<div>\n",
       "<style scoped>\n",
       "    .dataframe tbody tr th:only-of-type {\n",
       "        vertical-align: middle;\n",
       "    }\n",
       "\n",
       "    .dataframe tbody tr th {\n",
       "        vertical-align: top;\n",
       "    }\n",
       "\n",
       "    .dataframe thead th {\n",
       "        text-align: right;\n",
       "    }\n",
       "</style>\n",
       "<table border=\"1\" class=\"dataframe\">\n",
       "  <thead>\n",
       "    <tr style=\"text-align: right;\">\n",
       "      <th></th>\n",
       "      <th>Rank</th>\n",
       "      <th>Name</th>\n",
       "      <th>Platform</th>\n",
       "      <th>Year</th>\n",
       "      <th>Genre</th>\n",
       "      <th>Publisher</th>\n",
       "      <th>NA_Sales</th>\n",
       "      <th>EU_Sales</th>\n",
       "      <th>JP_Sales</th>\n",
       "      <th>Other_Sales</th>\n",
       "      <th>Global_Sales</th>\n",
       "    </tr>\n",
       "  </thead>\n",
       "  <tbody>\n",
       "    <tr>\n",
       "      <th>0</th>\n",
       "      <td>1</td>\n",
       "      <td>Wii Sports</td>\n",
       "      <td>Wii</td>\n",
       "      <td>2006.0</td>\n",
       "      <td>Sports</td>\n",
       "      <td>Nintendo</td>\n",
       "      <td>41.49</td>\n",
       "      <td>29.02</td>\n",
       "      <td>3.77</td>\n",
       "      <td>8.46</td>\n",
       "      <td>82.74</td>\n",
       "    </tr>\n",
       "    <tr>\n",
       "      <th>1</th>\n",
       "      <td>2</td>\n",
       "      <td>Super Mario Bros.</td>\n",
       "      <td>NES</td>\n",
       "      <td>1985.0</td>\n",
       "      <td>Platform</td>\n",
       "      <td>Nintendo</td>\n",
       "      <td>29.08</td>\n",
       "      <td>3.58</td>\n",
       "      <td>6.81</td>\n",
       "      <td>0.77</td>\n",
       "      <td>40.24</td>\n",
       "    </tr>\n",
       "    <tr>\n",
       "      <th>2</th>\n",
       "      <td>3</td>\n",
       "      <td>Mario Kart Wii</td>\n",
       "      <td>Wii</td>\n",
       "      <td>2008.0</td>\n",
       "      <td>Racing</td>\n",
       "      <td>Nintendo</td>\n",
       "      <td>15.85</td>\n",
       "      <td>12.88</td>\n",
       "      <td>3.79</td>\n",
       "      <td>3.31</td>\n",
       "      <td>35.82</td>\n",
       "    </tr>\n",
       "    <tr>\n",
       "      <th>3</th>\n",
       "      <td>4</td>\n",
       "      <td>Wii Sports Resort</td>\n",
       "      <td>Wii</td>\n",
       "      <td>2009.0</td>\n",
       "      <td>Sports</td>\n",
       "      <td>Nintendo</td>\n",
       "      <td>15.75</td>\n",
       "      <td>11.01</td>\n",
       "      <td>3.28</td>\n",
       "      <td>2.96</td>\n",
       "      <td>33.00</td>\n",
       "    </tr>\n",
       "    <tr>\n",
       "      <th>4</th>\n",
       "      <td>5</td>\n",
       "      <td>Pokemon Red/Pokemon Blue</td>\n",
       "      <td>GB</td>\n",
       "      <td>1996.0</td>\n",
       "      <td>Role-Playing</td>\n",
       "      <td>Nintendo</td>\n",
       "      <td>11.27</td>\n",
       "      <td>8.89</td>\n",
       "      <td>10.22</td>\n",
       "      <td>1.00</td>\n",
       "      <td>31.37</td>\n",
       "    </tr>\n",
       "  </tbody>\n",
       "</table>\n",
       "</div>"
      ],
      "text/plain": [
       "   Rank                      Name Platform    Year         Genre Publisher  \\\n",
       "0     1                Wii Sports      Wii  2006.0        Sports  Nintendo   \n",
       "1     2         Super Mario Bros.      NES  1985.0      Platform  Nintendo   \n",
       "2     3            Mario Kart Wii      Wii  2008.0        Racing  Nintendo   \n",
       "3     4         Wii Sports Resort      Wii  2009.0        Sports  Nintendo   \n",
       "4     5  Pokemon Red/Pokemon Blue       GB  1996.0  Role-Playing  Nintendo   \n",
       "\n",
       "   NA_Sales  EU_Sales  JP_Sales  Other_Sales  Global_Sales  \n",
       "0     41.49     29.02      3.77         8.46         82.74  \n",
       "1     29.08      3.58      6.81         0.77         40.24  \n",
       "2     15.85     12.88      3.79         3.31         35.82  \n",
       "3     15.75     11.01      3.28         2.96         33.00  \n",
       "4     11.27      8.89     10.22         1.00         31.37  "
      ]
     },
     "execution_count": 3,
     "metadata": {},
     "output_type": "execute_result"
    }
   ],
   "source": [
    "df.head()"
   ]
  },
  {
   "cell_type": "code",
   "execution_count": 4,
   "id": "b7e9161d",
   "metadata": {
    "execution": {
     "iopub.execute_input": "2025-09-01T15:27:26.593936Z",
     "iopub.status.busy": "2025-09-01T15:27:26.593585Z",
     "iopub.status.idle": "2025-09-01T15:27:26.600321Z",
     "shell.execute_reply": "2025-09-01T15:27:26.599445Z"
    },
    "papermill": {
     "duration": 0.016185,
     "end_time": "2025-09-01T15:27:26.602055",
     "exception": false,
     "start_time": "2025-09-01T15:27:26.585870",
     "status": "completed"
    },
    "tags": []
   },
   "outputs": [
    {
     "data": {
      "text/plain": [
       "(16598, 11)"
      ]
     },
     "execution_count": 4,
     "metadata": {},
     "output_type": "execute_result"
    }
   ],
   "source": [
    "df.shape"
   ]
  },
  {
   "cell_type": "markdown",
   "id": "af6e4468",
   "metadata": {
    "papermill": {
     "duration": 0.005641,
     "end_time": "2025-09-01T15:27:26.613974",
     "exception": false,
     "start_time": "2025-09-01T15:27:26.608333",
     "status": "completed"
    },
    "tags": []
   },
   "source": [
    "### 🕹️ Level 1: Meet the Characters  \n",
    "\n",
    "Now that we’ve unboxed our dataset, let’s get to know the **cast of characters**:  \n",
    "- What kinds of columns do we have? (numeric, object, etc.)  \n",
    "- How many missing values are there?  \n",
    "\n",
    "Your task:  \n",
    "- To get a quick overview of column types + null values.  \n",
    "- To double-check the data types.  \n",
    "\n",
    "This step is like reading the **character bios** before starting a game   \n"
   ]
  },
  {
   "cell_type": "code",
   "execution_count": 5,
   "id": "b8748b3d",
   "metadata": {
    "execution": {
     "iopub.execute_input": "2025-09-01T15:27:26.627243Z",
     "iopub.status.busy": "2025-09-01T15:27:26.626921Z",
     "iopub.status.idle": "2025-09-01T15:27:26.634308Z",
     "shell.execute_reply": "2025-09-01T15:27:26.633452Z"
    },
    "papermill": {
     "duration": 0.015895,
     "end_time": "2025-09-01T15:27:26.635929",
     "exception": false,
     "start_time": "2025-09-01T15:27:26.620034",
     "status": "completed"
    },
    "tags": []
   },
   "outputs": [
    {
     "data": {
      "text/plain": [
       "Rank              int64\n",
       "Name             object\n",
       "Platform         object\n",
       "Year            float64\n",
       "Genre            object\n",
       "Publisher        object\n",
       "NA_Sales        float64\n",
       "EU_Sales        float64\n",
       "JP_Sales        float64\n",
       "Other_Sales     float64\n",
       "Global_Sales    float64\n",
       "dtype: object"
      ]
     },
     "execution_count": 5,
     "metadata": {},
     "output_type": "execute_result"
    }
   ],
   "source": [
    "df.dtypes"
   ]
  },
  {
   "cell_type": "code",
   "execution_count": 6,
   "id": "491030f0",
   "metadata": {
    "execution": {
     "iopub.execute_input": "2025-09-01T15:27:26.649764Z",
     "iopub.status.busy": "2025-09-01T15:27:26.649094Z",
     "iopub.status.idle": "2025-09-01T15:27:26.660453Z",
     "shell.execute_reply": "2025-09-01T15:27:26.659426Z"
    },
    "papermill": {
     "duration": 0.020255,
     "end_time": "2025-09-01T15:27:26.662304",
     "exception": false,
     "start_time": "2025-09-01T15:27:26.642049",
     "status": "completed"
    },
    "tags": []
   },
   "outputs": [
    {
     "name": "stdout",
     "output_type": "stream",
     "text": [
      "Null Count: 329\n"
     ]
    }
   ],
   "source": [
    "print(\"Null Count:\", df.isna().sum().sum())"
   ]
  },
  {
   "cell_type": "markdown",
   "id": "2384351b",
   "metadata": {
    "papermill": {
     "duration": 0.00584,
     "end_time": "2025-09-01T15:27:26.674483",
     "exception": false,
     "start_time": "2025-09-01T15:27:26.668643",
     "status": "completed"
    },
    "tags": []
   },
   "source": [
    "### 🎯 Level 2: Quick Stats Check (Describe the Data)  \n",
    "\n",
    "Every good gamer checks the **stats screen** before playing  \n",
    "Now, let’s do the same for our dataset:  \n",
    "\n",
    "Your task:  \n",
    "- To get summary statistics for numerical columns.  \n",
    "- Notice things like average sales, max values, and distribution hints.  \n",
    "\n",
    "This is like peeking at the **scoreboard** — who’s leading, what’s the high score?   \n"
   ]
  },
  {
   "cell_type": "code",
   "execution_count": 7,
   "id": "79136f3d",
   "metadata": {
    "execution": {
     "iopub.execute_input": "2025-09-01T15:27:26.688735Z",
     "iopub.status.busy": "2025-09-01T15:27:26.688383Z",
     "iopub.status.idle": "2025-09-01T15:27:26.731734Z",
     "shell.execute_reply": "2025-09-01T15:27:26.730458Z"
    },
    "papermill": {
     "duration": 0.05293,
     "end_time": "2025-09-01T15:27:26.733594",
     "exception": false,
     "start_time": "2025-09-01T15:27:26.680664",
     "status": "completed"
    },
    "tags": []
   },
   "outputs": [
    {
     "data": {
      "text/html": [
       "<div>\n",
       "<style scoped>\n",
       "    .dataframe tbody tr th:only-of-type {\n",
       "        vertical-align: middle;\n",
       "    }\n",
       "\n",
       "    .dataframe tbody tr th {\n",
       "        vertical-align: top;\n",
       "    }\n",
       "\n",
       "    .dataframe thead th {\n",
       "        text-align: right;\n",
       "    }\n",
       "</style>\n",
       "<table border=\"1\" class=\"dataframe\">\n",
       "  <thead>\n",
       "    <tr style=\"text-align: right;\">\n",
       "      <th></th>\n",
       "      <th>Rank</th>\n",
       "      <th>Year</th>\n",
       "      <th>NA_Sales</th>\n",
       "      <th>EU_Sales</th>\n",
       "      <th>JP_Sales</th>\n",
       "      <th>Other_Sales</th>\n",
       "      <th>Global_Sales</th>\n",
       "    </tr>\n",
       "  </thead>\n",
       "  <tbody>\n",
       "    <tr>\n",
       "      <th>count</th>\n",
       "      <td>16598.000000</td>\n",
       "      <td>16327.000000</td>\n",
       "      <td>16598.000000</td>\n",
       "      <td>16598.000000</td>\n",
       "      <td>16598.000000</td>\n",
       "      <td>16598.000000</td>\n",
       "      <td>16598.000000</td>\n",
       "    </tr>\n",
       "    <tr>\n",
       "      <th>mean</th>\n",
       "      <td>8300.605254</td>\n",
       "      <td>2006.406443</td>\n",
       "      <td>0.264667</td>\n",
       "      <td>0.146652</td>\n",
       "      <td>0.077782</td>\n",
       "      <td>0.048063</td>\n",
       "      <td>0.537441</td>\n",
       "    </tr>\n",
       "    <tr>\n",
       "      <th>std</th>\n",
       "      <td>4791.853933</td>\n",
       "      <td>5.828981</td>\n",
       "      <td>0.816683</td>\n",
       "      <td>0.505351</td>\n",
       "      <td>0.309291</td>\n",
       "      <td>0.188588</td>\n",
       "      <td>1.555028</td>\n",
       "    </tr>\n",
       "    <tr>\n",
       "      <th>min</th>\n",
       "      <td>1.000000</td>\n",
       "      <td>1980.000000</td>\n",
       "      <td>0.000000</td>\n",
       "      <td>0.000000</td>\n",
       "      <td>0.000000</td>\n",
       "      <td>0.000000</td>\n",
       "      <td>0.010000</td>\n",
       "    </tr>\n",
       "    <tr>\n",
       "      <th>25%</th>\n",
       "      <td>4151.250000</td>\n",
       "      <td>2003.000000</td>\n",
       "      <td>0.000000</td>\n",
       "      <td>0.000000</td>\n",
       "      <td>0.000000</td>\n",
       "      <td>0.000000</td>\n",
       "      <td>0.060000</td>\n",
       "    </tr>\n",
       "    <tr>\n",
       "      <th>50%</th>\n",
       "      <td>8300.500000</td>\n",
       "      <td>2007.000000</td>\n",
       "      <td>0.080000</td>\n",
       "      <td>0.020000</td>\n",
       "      <td>0.000000</td>\n",
       "      <td>0.010000</td>\n",
       "      <td>0.170000</td>\n",
       "    </tr>\n",
       "    <tr>\n",
       "      <th>75%</th>\n",
       "      <td>12449.750000</td>\n",
       "      <td>2010.000000</td>\n",
       "      <td>0.240000</td>\n",
       "      <td>0.110000</td>\n",
       "      <td>0.040000</td>\n",
       "      <td>0.040000</td>\n",
       "      <td>0.470000</td>\n",
       "    </tr>\n",
       "    <tr>\n",
       "      <th>max</th>\n",
       "      <td>16600.000000</td>\n",
       "      <td>2020.000000</td>\n",
       "      <td>41.490000</td>\n",
       "      <td>29.020000</td>\n",
       "      <td>10.220000</td>\n",
       "      <td>10.570000</td>\n",
       "      <td>82.740000</td>\n",
       "    </tr>\n",
       "  </tbody>\n",
       "</table>\n",
       "</div>"
      ],
      "text/plain": [
       "               Rank          Year      NA_Sales      EU_Sales      JP_Sales  \\\n",
       "count  16598.000000  16327.000000  16598.000000  16598.000000  16598.000000   \n",
       "mean    8300.605254   2006.406443      0.264667      0.146652      0.077782   \n",
       "std     4791.853933      5.828981      0.816683      0.505351      0.309291   \n",
       "min        1.000000   1980.000000      0.000000      0.000000      0.000000   \n",
       "25%     4151.250000   2003.000000      0.000000      0.000000      0.000000   \n",
       "50%     8300.500000   2007.000000      0.080000      0.020000      0.000000   \n",
       "75%    12449.750000   2010.000000      0.240000      0.110000      0.040000   \n",
       "max    16600.000000   2020.000000     41.490000     29.020000     10.220000   \n",
       "\n",
       "        Other_Sales  Global_Sales  \n",
       "count  16598.000000  16598.000000  \n",
       "mean       0.048063      0.537441  \n",
       "std        0.188588      1.555028  \n",
       "min        0.000000      0.010000  \n",
       "25%        0.000000      0.060000  \n",
       "50%        0.010000      0.170000  \n",
       "75%        0.040000      0.470000  \n",
       "max       10.570000     82.740000  "
      ]
     },
     "execution_count": 7,
     "metadata": {},
     "output_type": "execute_result"
    }
   ],
   "source": [
    "df.describe()"
   ]
  },
  {
   "cell_type": "markdown",
   "id": "d2acaa9b",
   "metadata": {
    "papermill": {
     "duration": 0.006404,
     "end_time": "2025-09-01T15:27:26.746894",
     "exception": false,
     "start_time": "2025-09-01T15:27:26.740490",
     "status": "completed"
    },
    "tags": []
   },
   "source": [
    "## 🧹 Level 3: Clean the Map (Missing Values)\n",
    "\n",
    "Time to sweep the floor before we play.\n",
    "\n",
    "**Your tasks:**\n",
    "- Check how many missing values are in each column.\n",
    "- For this dataset, handle missing values in **`Year`** and **`Publisher`** by removing those rows.\n",
    "- Re-check to confirm there are **no missing values left**.\n",
    "\n",
    "> Tip: Do a quick sanity check after cleaning (row count should drop a bit).\n"
   ]
  },
  {
   "cell_type": "code",
   "execution_count": 8,
   "id": "3f0b7cf2",
   "metadata": {
    "execution": {
     "iopub.execute_input": "2025-09-01T15:27:26.762051Z",
     "iopub.status.busy": "2025-09-01T15:27:26.760935Z",
     "iopub.status.idle": "2025-09-01T15:27:26.774493Z",
     "shell.execute_reply": "2025-09-01T15:27:26.773431Z"
    },
    "papermill": {
     "duration": 0.022823,
     "end_time": "2025-09-01T15:27:26.776267",
     "exception": false,
     "start_time": "2025-09-01T15:27:26.753444",
     "status": "completed"
    },
    "tags": []
   },
   "outputs": [
    {
     "data": {
      "text/plain": [
       "Rank              0\n",
       "Name              0\n",
       "Platform          0\n",
       "Year            271\n",
       "Genre             0\n",
       "Publisher        58\n",
       "NA_Sales          0\n",
       "EU_Sales          0\n",
       "JP_Sales          0\n",
       "Other_Sales       0\n",
       "Global_Sales      0\n",
       "dtype: int64"
      ]
     },
     "execution_count": 8,
     "metadata": {},
     "output_type": "execute_result"
    }
   ],
   "source": [
    "df.isna().sum()"
   ]
  },
  {
   "cell_type": "code",
   "execution_count": 9,
   "id": "f56ff9c4",
   "metadata": {
    "execution": {
     "iopub.execute_input": "2025-09-01T15:27:26.790991Z",
     "iopub.status.busy": "2025-09-01T15:27:26.790653Z",
     "iopub.status.idle": "2025-09-01T15:27:26.808300Z",
     "shell.execute_reply": "2025-09-01T15:27:26.807390Z"
    },
    "papermill": {
     "duration": 0.027013,
     "end_time": "2025-09-01T15:27:26.810189",
     "exception": false,
     "start_time": "2025-09-01T15:27:26.783176",
     "status": "completed"
    },
    "tags": []
   },
   "outputs": [],
   "source": [
    "df.dropna(subset = ['Year', 'Publisher'], inplace = True)"
   ]
  },
  {
   "cell_type": "code",
   "execution_count": 10,
   "id": "f20e53b3",
   "metadata": {
    "execution": {
     "iopub.execute_input": "2025-09-01T15:27:26.825522Z",
     "iopub.status.busy": "2025-09-01T15:27:26.824437Z",
     "iopub.status.idle": "2025-09-01T15:27:26.836541Z",
     "shell.execute_reply": "2025-09-01T15:27:26.835452Z"
    },
    "papermill": {
     "duration": 0.021623,
     "end_time": "2025-09-01T15:27:26.838486",
     "exception": false,
     "start_time": "2025-09-01T15:27:26.816863",
     "status": "completed"
    },
    "tags": []
   },
   "outputs": [
    {
     "data": {
      "text/plain": [
       "Rank            0\n",
       "Name            0\n",
       "Platform        0\n",
       "Year            0\n",
       "Genre           0\n",
       "Publisher       0\n",
       "NA_Sales        0\n",
       "EU_Sales        0\n",
       "JP_Sales        0\n",
       "Other_Sales     0\n",
       "Global_Sales    0\n",
       "dtype: int64"
      ]
     },
     "execution_count": 10,
     "metadata": {},
     "output_type": "execute_result"
    }
   ],
   "source": [
    "df.isna().sum()"
   ]
  },
  {
   "cell_type": "code",
   "execution_count": 11,
   "id": "a8149790",
   "metadata": {
    "execution": {
     "iopub.execute_input": "2025-09-01T15:27:26.853819Z",
     "iopub.status.busy": "2025-09-01T15:27:26.853383Z",
     "iopub.status.idle": "2025-09-01T15:27:26.860762Z",
     "shell.execute_reply": "2025-09-01T15:27:26.859445Z"
    },
    "papermill": {
     "duration": 0.017518,
     "end_time": "2025-09-01T15:27:26.862921",
     "exception": false,
     "start_time": "2025-09-01T15:27:26.845403",
     "status": "completed"
    },
    "tags": []
   },
   "outputs": [
    {
     "data": {
      "text/plain": [
       "16291"
      ]
     },
     "execution_count": 11,
     "metadata": {},
     "output_type": "execute_result"
    }
   ],
   "source": [
    "len(df)"
   ]
  },
  {
   "cell_type": "markdown",
   "id": "41eb21b3",
   "metadata": {
    "papermill": {
     "duration": 0.007237,
     "end_time": "2025-09-01T15:27:26.877662",
     "exception": false,
     "start_time": "2025-09-01T15:27:26.870425",
     "status": "completed"
    },
    "tags": []
   },
   "source": [
    "## 🔢 Level 4: Patch the `Year` Column (Data Types)\n",
    "\n",
    "`Year` often shows up as a float (e.g., `2008.0`) because of missing values earlier.\n",
    "\n",
    "**Your tasks:**\n",
    "- Convert **`Year`** to **integer**.\n",
    "- Re-run a quick `info` to confirm the dtype change.\n",
    "\n",
    "> If conversion fails, revisit Level 3 — some NaNs may still be lurking.\n"
   ]
  },
  {
   "cell_type": "code",
   "execution_count": 12,
   "id": "65d0f256",
   "metadata": {
    "execution": {
     "iopub.execute_input": "2025-09-01T15:27:26.892439Z",
     "iopub.status.busy": "2025-09-01T15:27:26.892091Z",
     "iopub.status.idle": "2025-09-01T15:27:26.899436Z",
     "shell.execute_reply": "2025-09-01T15:27:26.898436Z"
    },
    "papermill": {
     "duration": 0.016662,
     "end_time": "2025-09-01T15:27:26.901154",
     "exception": false,
     "start_time": "2025-09-01T15:27:26.884492",
     "status": "completed"
    },
    "tags": []
   },
   "outputs": [],
   "source": [
    "df['Year'] = df['Year'].astype(int)"
   ]
  },
  {
   "cell_type": "code",
   "execution_count": 13,
   "id": "2e3e6c95",
   "metadata": {
    "execution": {
     "iopub.execute_input": "2025-09-01T15:27:26.916280Z",
     "iopub.status.busy": "2025-09-01T15:27:26.915657Z",
     "iopub.status.idle": "2025-09-01T15:27:26.942438Z",
     "shell.execute_reply": "2025-09-01T15:27:26.941404Z"
    },
    "papermill": {
     "duration": 0.035953,
     "end_time": "2025-09-01T15:27:26.944090",
     "exception": false,
     "start_time": "2025-09-01T15:27:26.908137",
     "status": "completed"
    },
    "tags": []
   },
   "outputs": [
    {
     "name": "stdout",
     "output_type": "stream",
     "text": [
      "<class 'pandas.core.frame.DataFrame'>\n",
      "Index: 16291 entries, 0 to 16597\n",
      "Data columns (total 11 columns):\n",
      " #   Column        Non-Null Count  Dtype  \n",
      "---  ------        --------------  -----  \n",
      " 0   Rank          16291 non-null  int64  \n",
      " 1   Name          16291 non-null  object \n",
      " 2   Platform      16291 non-null  object \n",
      " 3   Year          16291 non-null  int64  \n",
      " 4   Genre         16291 non-null  object \n",
      " 5   Publisher     16291 non-null  object \n",
      " 6   NA_Sales      16291 non-null  float64\n",
      " 7   EU_Sales      16291 non-null  float64\n",
      " 8   JP_Sales      16291 non-null  float64\n",
      " 9   Other_Sales   16291 non-null  float64\n",
      " 10  Global_Sales  16291 non-null  float64\n",
      "dtypes: float64(5), int64(2), object(4)\n",
      "memory usage: 1.5+ MB\n"
     ]
    }
   ],
   "source": [
    "df.info()"
   ]
  },
  {
   "cell_type": "markdown",
   "id": "2d47fa04",
   "metadata": {
    "papermill": {
     "duration": 0.006695,
     "end_time": "2025-09-01T15:27:26.958150",
     "exception": false,
     "start_time": "2025-09-01T15:27:26.951455",
     "status": "completed"
    },
    "tags": []
   },
   "source": [
    "\n",
    "## 🎮 Level 5: Spotting the Legends  \n",
    "Now that we’ve explored platforms and genres, let’s look at the **all-time best sellers**.  \n",
    "Your task:  \n",
    "\n",
    "List the **Top 5 best-selling video games**.  \n",
    "We’ll display their **Name, Platform, Genre, and Global Sales**.  \n",
    "\n",
    "Think of this as the **Hall of Fame of Video Games** \n",
    "\n",
    "\n"
   ]
  },
  {
   "cell_type": "code",
   "execution_count": null,
   "id": "709413e0",
   "metadata": {
    "papermill": {
     "duration": 0.006519,
     "end_time": "2025-09-01T15:27:26.971408",
     "exception": false,
     "start_time": "2025-09-01T15:27:26.964889",
     "status": "completed"
    },
    "tags": []
   },
   "outputs": [],
   "source": []
  },
  {
   "cell_type": "markdown",
   "id": "c4814d7a",
   "metadata": {
    "papermill": {
     "duration": 0.006337,
     "end_time": "2025-09-01T15:27:26.984540",
     "exception": false,
     "start_time": "2025-09-01T15:27:26.978203",
     "status": "completed"
    },
    "tags": []
   },
   "source": [
    "\n",
    "## 🎮 Level 6: Which Console Ruled the Game?  \n",
    "Every console/platform has a legacy — but which one released the **most number of games**?  \n",
    "\n",
    "Count the number of games released on each platform.  \n",
    "Create a **bar chart** to visualize it.  \n",
    "Finally, answer: **Which platform has the highest number of releases?** \n",
    "\n",
    "  \n"
   ]
  },
  {
   "cell_type": "code",
   "execution_count": null,
   "id": "109c0c5b",
   "metadata": {
    "papermill": {
     "duration": 0.006372,
     "end_time": "2025-09-01T15:27:26.997826",
     "exception": false,
     "start_time": "2025-09-01T15:27:26.991454",
     "status": "completed"
    },
    "tags": []
   },
   "outputs": [],
   "source": []
  },
  {
   "cell_type": "code",
   "execution_count": null,
   "id": "11cef625",
   "metadata": {
    "papermill": {
     "duration": 0.006591,
     "end_time": "2025-09-01T15:27:27.011153",
     "exception": false,
     "start_time": "2025-09-01T15:27:27.004562",
     "status": "completed"
    },
    "tags": []
   },
   "outputs": [],
   "source": []
  },
  {
   "cell_type": "markdown",
   "id": "cb662292",
   "metadata": {
    "papermill": {
     "duration": 0.006329,
     "end_time": "2025-09-01T15:27:27.024180",
     "exception": false,
     "start_time": "2025-09-01T15:27:27.017851",
     "status": "completed"
    },
    "tags": []
   },
   "source": [
    "\n",
    "## 🏢 Level 7: The Big Bosses (Top Publishers)  \n",
    "Some publishers dominate the industry like final bosses \n",
    "\n",
    "Your task:  \n",
    "- Find the **Top 5 publishers** with the highest **total Global Sales**.  \n",
    "- Show their contribution using a **pie chart** \n",
    "\n",
    "This will help us see who really controlled the gaming world  \n"
   ]
  },
  {
   "cell_type": "code",
   "execution_count": null,
   "id": "788fceca",
   "metadata": {
    "papermill": {
     "duration": 0.006861,
     "end_time": "2025-09-01T15:27:27.037813",
     "exception": false,
     "start_time": "2025-09-01T15:27:27.030952",
     "status": "completed"
    },
    "tags": []
   },
   "outputs": [],
   "source": []
  },
  {
   "cell_type": "code",
   "execution_count": null,
   "id": "3ee1d450",
   "metadata": {
    "papermill": {
     "duration": 0.007423,
     "end_time": "2025-09-01T15:27:27.052456",
     "exception": false,
     "start_time": "2025-09-01T15:27:27.045033",
     "status": "completed"
    },
    "tags": []
   },
   "outputs": [],
   "source": []
  },
  {
   "cell_type": "markdown",
   "id": "ee52788a",
   "metadata": {
    "papermill": {
     "duration": 0.006949,
     "end_time": "2025-09-01T15:27:27.066680",
     "exception": false,
     "start_time": "2025-09-01T15:27:27.059731",
     "status": "completed"
    },
    "tags": []
   },
   "source": [
    "\n",
    "## 🌍 Level 8: Genre Champions in Europe  \n",
    "Different genres have their own kings in different regions.  \n",
    "Let’s focus on **Europe (EU Sales)** for now.  \n",
    "\n",
    "Your task:  \n",
    "- For **each Genre**, find the **Publisher** that has the highest **total EU Sales**.  \n",
    "- Print the results as a list (Genre → Top Publisher).  \n",
    "\n",
    "Think of this as awarding the **regional championship belts**  \n",
    "\n"
   ]
  },
  {
   "cell_type": "code",
   "execution_count": null,
   "id": "723be4ca",
   "metadata": {
    "papermill": {
     "duration": 0.007414,
     "end_time": "2025-09-01T15:27:27.081840",
     "exception": false,
     "start_time": "2025-09-01T15:27:27.074426",
     "status": "completed"
    },
    "tags": []
   },
   "outputs": [],
   "source": []
  },
  {
   "cell_type": "markdown",
   "id": "fdcfc1b7",
   "metadata": {
    "papermill": {
     "duration": 0.006574,
     "end_time": "2025-09-01T15:27:27.095655",
     "exception": false,
     "start_time": "2025-09-01T15:27:27.089081",
     "status": "completed"
    },
    "tags": []
   },
   "source": [
    "\n",
    "## 🎯 Level 9: Nintendo’s Golden Year  \n",
    "Nintendo is one of the biggest names in gaming 🎮  \n",
    "But… which year did Nintendo achieve its **highest total Global Sales**?  \n",
    "\n",
    "Your task:  \n",
    "- Filter the dataset for **Publisher = Nintendo**.  \n",
    "- Group sales by year.  \n",
    "- Find the year with the **highest global sales**.  \n",
    "\n",
    "This is like uncovering the **peak of Nintendo’s power**   \n",
    "\n"
   ]
  },
  {
   "cell_type": "code",
   "execution_count": null,
   "id": "56257c78",
   "metadata": {
    "papermill": {
     "duration": 0.006494,
     "end_time": "2025-09-01T15:27:27.109521",
     "exception": false,
     "start_time": "2025-09-01T15:27:27.103027",
     "status": "completed"
    },
    "tags": []
   },
   "outputs": [],
   "source": []
  },
  {
   "cell_type": "markdown",
   "id": "2ad94c1d",
   "metadata": {
    "papermill": {
     "duration": 0.006403,
     "end_time": "2025-09-01T15:27:27.122724",
     "exception": false,
     "start_time": "2025-09-01T15:27:27.116321",
     "status": "completed"
    },
    "tags": []
   },
   "source": [
    "\n",
    "## 🏟️ Final Boss Arena: The Data Playground  \n",
    "\n",
    "You’ve fought through all the levels ⚔️, now it’s time to explore on your own 🎉  \n",
    "\n",
    "Your final mission:  \n",
    "- Choose **any 2–3 plots** (your choice!) that show **interesting patterns** in the data.   \n",
    "\n",
    "💡 This is your **creative zone** → Think of it as building your own “story” from the dataset.  \n",
    "\n",
    "When you’re done, share your best plot with the team — let’s see who finds the coolest insight!  \n",
    "\n"
   ]
  },
  {
   "cell_type": "code",
   "execution_count": null,
   "id": "67e43580",
   "metadata": {
    "papermill": {
     "duration": 0.006512,
     "end_time": "2025-09-01T15:27:27.136093",
     "exception": false,
     "start_time": "2025-09-01T15:27:27.129581",
     "status": "completed"
    },
    "tags": []
   },
   "outputs": [],
   "source": []
  }
 ],
 "metadata": {
  "kaggle": {
   "accelerator": "none",
   "dataSources": [
    {
     "datasetId": 284,
     "sourceId": 618,
     "sourceType": "datasetVersion"
    }
   ],
   "dockerImageVersionId": 31089,
   "isGpuEnabled": false,
   "isInternetEnabled": false,
   "language": "python",
   "sourceType": "notebook"
  },
  "kernelspec": {
   "display_name": "Python 3",
   "language": "python",
   "name": "python3"
  },
  "language_info": {
   "codemirror_mode": {
    "name": "ipython",
    "version": 3
   },
   "file_extension": ".py",
   "mimetype": "text/x-python",
   "name": "python",
   "nbconvert_exporter": "python",
   "pygments_lexer": "ipython3",
   "version": "3.11.13"
  },
  "papermill": {
   "default_parameters": {},
   "duration": 13.059122,
   "end_time": "2025-09-01T15:27:27.769285",
   "environment_variables": {},
   "exception": null,
   "input_path": "__notebook__.ipynb",
   "output_path": "__notebook__.ipynb",
   "parameters": {},
   "start_time": "2025-09-01T15:27:14.710163",
   "version": "2.6.0"
  }
 },
 "nbformat": 4,
 "nbformat_minor": 5
}
