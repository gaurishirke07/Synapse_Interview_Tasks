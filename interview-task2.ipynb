{
 "cells": [
  {
   "cell_type": "markdown",
   "id": "0187265d",
   "metadata": {
    "papermill": {
     "duration": 0.006343,
     "end_time": "2025-09-02T20:13:08.679009",
     "exception": false,
     "start_time": "2025-09-02T20:13:08.672666",
     "status": "completed"
    },
    "tags": []
   },
   "source": [
    "# Instructions \n",
    "\n",
    "- Make sure you’re logged into Kaggle.\n",
    "- Load the **Video Game Sales dataset** (CSV file is provided in the Kaggle input section).  \n",
    "- Carefully read through each step and run the cells in order.  \n",
    "- Do **not** skip steps — each builds on the previous one.  \n",
    "- Add your own observations wherever possible, especially when exploring graphs.  \n",
    "- Remember: This is practice for real-world data preprocessing + EDA, so try to think *why* each step is done, not just *how*.  \n",
    "- At the end, feel free to explore further — add more plots, groupbys, or questions you want to answer!  \n",
    "\n"
   ]
  },
  {
   "cell_type": "markdown",
   "id": "ed3ac1d5",
   "metadata": {
    "papermill": {
     "duration": 0.005074,
     "end_time": "2025-09-02T20:13:08.689810",
     "exception": false,
     "start_time": "2025-09-02T20:13:08.684736",
     "status": "completed"
    },
    "tags": []
   },
   "source": [
    "Welcome to your next checkpoint on the Synapse road!\n",
    "Today we’re diving into the Video Game Sales dataset to practice real-world data preprocessing + EDA. Think of this like prepping ingredients before cooking — we’ll clean, slice, and plate the data so insights pop 🍽️"
   ]
  },
  {
   "cell_type": "markdown",
   "id": "108a8a4f",
   "metadata": {
    "papermill": {
     "duration": 0.005022,
     "end_time": "2025-09-02T20:13:08.700098",
     "exception": false,
     "start_time": "2025-09-02T20:13:08.695076",
     "status": "completed"
    },
    "tags": []
   },
   "source": [
    "We’ll be using pandas, numpy, matplotlib, and seaborn for this task.\n",
    "Run the following cell to import them"
   ]
  },
  {
   "cell_type": "code",
   "execution_count": 1,
   "id": "07543652",
   "metadata": {
    "execution": {
     "iopub.execute_input": "2025-09-02T20:13:08.712077Z",
     "iopub.status.busy": "2025-09-02T20:13:08.711770Z",
     "iopub.status.idle": "2025-09-02T20:13:12.139030Z",
     "shell.execute_reply": "2025-09-02T20:13:12.138353Z"
    },
    "papermill": {
     "duration": 3.434926,
     "end_time": "2025-09-02T20:13:12.140432",
     "exception": false,
     "start_time": "2025-09-02T20:13:08.705506",
     "status": "completed"
    },
    "tags": []
   },
   "outputs": [],
   "source": [
    "import pandas as pd\n",
    "import numpy as np\n",
    "import matplotlib.pyplot as plt\n",
    "import seaborn as sns"
   ]
  },
  {
   "cell_type": "markdown",
   "id": "b61ca6c8",
   "metadata": {
    "papermill": {
     "duration": 0.005001,
     "end_time": "2025-09-02T20:13:12.150830",
     "exception": false,
     "start_time": "2025-09-02T20:13:12.145829",
     "status": "completed"
    },
    "tags": []
   },
   "source": [
    "Alright, now that we’ve got our tools ready, let’s bring in the star of the show — the **Video Game Sales dataset** 🎮  \n",
    "\n",
    "Your task:  \n",
    "- Load the dataset into a pandas DataFrame.  \n",
    "- Take a quick peek at the first few rows using.  \n",
    "- Check the shape of the dataset to see how big this universe is.  \n",
    "\n",
    "Think of this step as unboxing a new console — gotta see what’s inside first!  \n"
   ]
  },
  {
   "cell_type": "code",
   "execution_count": 2,
   "id": "8e707f9c",
   "metadata": {
    "execution": {
     "iopub.execute_input": "2025-09-02T20:13:12.162159Z",
     "iopub.status.busy": "2025-09-02T20:13:12.161754Z",
     "iopub.status.idle": "2025-09-02T20:13:12.240649Z",
     "shell.execute_reply": "2025-09-02T20:13:12.239790Z"
    },
    "papermill": {
     "duration": 0.086395,
     "end_time": "2025-09-02T20:13:12.242258",
     "exception": false,
     "start_time": "2025-09-02T20:13:12.155863",
     "status": "completed"
    },
    "tags": []
   },
   "outputs": [],
   "source": [
    "df = pd.read_csv('../input/videogamesales/vgsales.csv')"
   ]
  },
  {
   "cell_type": "code",
   "execution_count": 3,
   "id": "568c39a0",
   "metadata": {
    "execution": {
     "iopub.execute_input": "2025-09-02T20:13:12.255117Z",
     "iopub.status.busy": "2025-09-02T20:13:12.254544Z",
     "iopub.status.idle": "2025-09-02T20:13:12.280225Z",
     "shell.execute_reply": "2025-09-02T20:13:12.279508Z"
    },
    "papermill": {
     "duration": 0.033971,
     "end_time": "2025-09-02T20:13:12.281680",
     "exception": false,
     "start_time": "2025-09-02T20:13:12.247709",
     "status": "completed"
    },
    "tags": []
   },
   "outputs": [
    {
     "data": {
      "text/html": [
       "<div>\n",
       "<style scoped>\n",
       "    .dataframe tbody tr th:only-of-type {\n",
       "        vertical-align: middle;\n",
       "    }\n",
       "\n",
       "    .dataframe tbody tr th {\n",
       "        vertical-align: top;\n",
       "    }\n",
       "\n",
       "    .dataframe thead th {\n",
       "        text-align: right;\n",
       "    }\n",
       "</style>\n",
       "<table border=\"1\" class=\"dataframe\">\n",
       "  <thead>\n",
       "    <tr style=\"text-align: right;\">\n",
       "      <th></th>\n",
       "      <th>Rank</th>\n",
       "      <th>Name</th>\n",
       "      <th>Platform</th>\n",
       "      <th>Year</th>\n",
       "      <th>Genre</th>\n",
       "      <th>Publisher</th>\n",
       "      <th>NA_Sales</th>\n",
       "      <th>EU_Sales</th>\n",
       "      <th>JP_Sales</th>\n",
       "      <th>Other_Sales</th>\n",
       "      <th>Global_Sales</th>\n",
       "    </tr>\n",
       "  </thead>\n",
       "  <tbody>\n",
       "    <tr>\n",
       "      <th>0</th>\n",
       "      <td>1</td>\n",
       "      <td>Wii Sports</td>\n",
       "      <td>Wii</td>\n",
       "      <td>2006.0</td>\n",
       "      <td>Sports</td>\n",
       "      <td>Nintendo</td>\n",
       "      <td>41.49</td>\n",
       "      <td>29.02</td>\n",
       "      <td>3.77</td>\n",
       "      <td>8.46</td>\n",
       "      <td>82.74</td>\n",
       "    </tr>\n",
       "    <tr>\n",
       "      <th>1</th>\n",
       "      <td>2</td>\n",
       "      <td>Super Mario Bros.</td>\n",
       "      <td>NES</td>\n",
       "      <td>1985.0</td>\n",
       "      <td>Platform</td>\n",
       "      <td>Nintendo</td>\n",
       "      <td>29.08</td>\n",
       "      <td>3.58</td>\n",
       "      <td>6.81</td>\n",
       "      <td>0.77</td>\n",
       "      <td>40.24</td>\n",
       "    </tr>\n",
       "    <tr>\n",
       "      <th>2</th>\n",
       "      <td>3</td>\n",
       "      <td>Mario Kart Wii</td>\n",
       "      <td>Wii</td>\n",
       "      <td>2008.0</td>\n",
       "      <td>Racing</td>\n",
       "      <td>Nintendo</td>\n",
       "      <td>15.85</td>\n",
       "      <td>12.88</td>\n",
       "      <td>3.79</td>\n",
       "      <td>3.31</td>\n",
       "      <td>35.82</td>\n",
       "    </tr>\n",
       "    <tr>\n",
       "      <th>3</th>\n",
       "      <td>4</td>\n",
       "      <td>Wii Sports Resort</td>\n",
       "      <td>Wii</td>\n",
       "      <td>2009.0</td>\n",
       "      <td>Sports</td>\n",
       "      <td>Nintendo</td>\n",
       "      <td>15.75</td>\n",
       "      <td>11.01</td>\n",
       "      <td>3.28</td>\n",
       "      <td>2.96</td>\n",
       "      <td>33.00</td>\n",
       "    </tr>\n",
       "    <tr>\n",
       "      <th>4</th>\n",
       "      <td>5</td>\n",
       "      <td>Pokemon Red/Pokemon Blue</td>\n",
       "      <td>GB</td>\n",
       "      <td>1996.0</td>\n",
       "      <td>Role-Playing</td>\n",
       "      <td>Nintendo</td>\n",
       "      <td>11.27</td>\n",
       "      <td>8.89</td>\n",
       "      <td>10.22</td>\n",
       "      <td>1.00</td>\n",
       "      <td>31.37</td>\n",
       "    </tr>\n",
       "  </tbody>\n",
       "</table>\n",
       "</div>"
      ],
      "text/plain": [
       "   Rank                      Name Platform    Year         Genre Publisher  \\\n",
       "0     1                Wii Sports      Wii  2006.0        Sports  Nintendo   \n",
       "1     2         Super Mario Bros.      NES  1985.0      Platform  Nintendo   \n",
       "2     3            Mario Kart Wii      Wii  2008.0        Racing  Nintendo   \n",
       "3     4         Wii Sports Resort      Wii  2009.0        Sports  Nintendo   \n",
       "4     5  Pokemon Red/Pokemon Blue       GB  1996.0  Role-Playing  Nintendo   \n",
       "\n",
       "   NA_Sales  EU_Sales  JP_Sales  Other_Sales  Global_Sales  \n",
       "0     41.49     29.02      3.77         8.46         82.74  \n",
       "1     29.08      3.58      6.81         0.77         40.24  \n",
       "2     15.85     12.88      3.79         3.31         35.82  \n",
       "3     15.75     11.01      3.28         2.96         33.00  \n",
       "4     11.27      8.89     10.22         1.00         31.37  "
      ]
     },
     "execution_count": 3,
     "metadata": {},
     "output_type": "execute_result"
    }
   ],
   "source": [
    "df.head()"
   ]
  },
  {
   "cell_type": "code",
   "execution_count": 4,
   "id": "878003d5",
   "metadata": {
    "execution": {
     "iopub.execute_input": "2025-09-02T20:13:12.293913Z",
     "iopub.status.busy": "2025-09-02T20:13:12.293644Z",
     "iopub.status.idle": "2025-09-02T20:13:12.298461Z",
     "shell.execute_reply": "2025-09-02T20:13:12.297766Z"
    },
    "papermill": {
     "duration": 0.012324,
     "end_time": "2025-09-02T20:13:12.299679",
     "exception": false,
     "start_time": "2025-09-02T20:13:12.287355",
     "status": "completed"
    },
    "tags": []
   },
   "outputs": [
    {
     "data": {
      "text/plain": [
       "(16598, 11)"
      ]
     },
     "execution_count": 4,
     "metadata": {},
     "output_type": "execute_result"
    }
   ],
   "source": [
    "df.shape"
   ]
  },
  {
   "cell_type": "markdown",
   "id": "5469f34a",
   "metadata": {
    "papermill": {
     "duration": 0.005446,
     "end_time": "2025-09-02T20:13:12.310729",
     "exception": false,
     "start_time": "2025-09-02T20:13:12.305283",
     "status": "completed"
    },
    "tags": []
   },
   "source": [
    "### 🕹️ Level 1: Meet the Characters  \n",
    "\n",
    "Now that we’ve unboxed our dataset, let’s get to know the **cast of characters**:  \n",
    "- What kinds of columns do we have? (numeric, object, etc.)  \n",
    "- How many missing values are there?  \n",
    "\n",
    "Your task:  \n",
    "- To get a quick overview of column types + null values.  \n",
    "- To double-check the data types.  \n",
    "\n",
    "This step is like reading the **character bios** before starting a game   \n"
   ]
  },
  {
   "cell_type": "code",
   "execution_count": 5,
   "id": "0a63d1c6",
   "metadata": {
    "execution": {
     "iopub.execute_input": "2025-09-02T20:13:12.322952Z",
     "iopub.status.busy": "2025-09-02T20:13:12.322329Z",
     "iopub.status.idle": "2025-09-02T20:13:12.328524Z",
     "shell.execute_reply": "2025-09-02T20:13:12.327874Z"
    },
    "papermill": {
     "duration": 0.013629,
     "end_time": "2025-09-02T20:13:12.329766",
     "exception": false,
     "start_time": "2025-09-02T20:13:12.316137",
     "status": "completed"
    },
    "tags": []
   },
   "outputs": [
    {
     "data": {
      "text/plain": [
       "Rank              int64\n",
       "Name             object\n",
       "Platform         object\n",
       "Year            float64\n",
       "Genre            object\n",
       "Publisher        object\n",
       "NA_Sales        float64\n",
       "EU_Sales        float64\n",
       "JP_Sales        float64\n",
       "Other_Sales     float64\n",
       "Global_Sales    float64\n",
       "dtype: object"
      ]
     },
     "execution_count": 5,
     "metadata": {},
     "output_type": "execute_result"
    }
   ],
   "source": [
    "df.dtypes"
   ]
  },
  {
   "cell_type": "code",
   "execution_count": 6,
   "id": "63a33a4c",
   "metadata": {
    "execution": {
     "iopub.execute_input": "2025-09-02T20:13:12.342060Z",
     "iopub.status.busy": "2025-09-02T20:13:12.341581Z",
     "iopub.status.idle": "2025-09-02T20:13:12.350607Z",
     "shell.execute_reply": "2025-09-02T20:13:12.349844Z"
    },
    "papermill": {
     "duration": 0.01656,
     "end_time": "2025-09-02T20:13:12.351871",
     "exception": false,
     "start_time": "2025-09-02T20:13:12.335311",
     "status": "completed"
    },
    "tags": []
   },
   "outputs": [
    {
     "name": "stdout",
     "output_type": "stream",
     "text": [
      "Null Count: 329\n"
     ]
    }
   ],
   "source": [
    "print(\"Null Count:\", df.isna().sum().sum())"
   ]
  },
  {
   "cell_type": "markdown",
   "id": "83ee0496",
   "metadata": {
    "papermill": {
     "duration": 0.005376,
     "end_time": "2025-09-02T20:13:12.362940",
     "exception": false,
     "start_time": "2025-09-02T20:13:12.357564",
     "status": "completed"
    },
    "tags": []
   },
   "source": [
    "### 🎯 Level 2: Quick Stats Check (Describe the Data)  \n",
    "\n",
    "Every good gamer checks the **stats screen** before playing  \n",
    "Now, let’s do the same for our dataset:  \n",
    "\n",
    "Your task:  \n",
    "- To get summary statistics for numerical columns.  \n",
    "- Notice things like average sales, max values, and distribution hints.  \n",
    "\n",
    "This is like peeking at the **scoreboard** — who’s leading, what’s the high score?   \n"
   ]
  },
  {
   "cell_type": "code",
   "execution_count": 7,
   "id": "64fcfa03",
   "metadata": {
    "execution": {
     "iopub.execute_input": "2025-09-02T20:13:12.375303Z",
     "iopub.status.busy": "2025-09-02T20:13:12.375013Z",
     "iopub.status.idle": "2025-09-02T20:13:12.409003Z",
     "shell.execute_reply": "2025-09-02T20:13:12.408186Z"
    },
    "papermill": {
     "duration": 0.041877,
     "end_time": "2025-09-02T20:13:12.410514",
     "exception": false,
     "start_time": "2025-09-02T20:13:12.368637",
     "status": "completed"
    },
    "tags": []
   },
   "outputs": [
    {
     "data": {
      "text/html": [
       "<div>\n",
       "<style scoped>\n",
       "    .dataframe tbody tr th:only-of-type {\n",
       "        vertical-align: middle;\n",
       "    }\n",
       "\n",
       "    .dataframe tbody tr th {\n",
       "        vertical-align: top;\n",
       "    }\n",
       "\n",
       "    .dataframe thead th {\n",
       "        text-align: right;\n",
       "    }\n",
       "</style>\n",
       "<table border=\"1\" class=\"dataframe\">\n",
       "  <thead>\n",
       "    <tr style=\"text-align: right;\">\n",
       "      <th></th>\n",
       "      <th>Rank</th>\n",
       "      <th>Year</th>\n",
       "      <th>NA_Sales</th>\n",
       "      <th>EU_Sales</th>\n",
       "      <th>JP_Sales</th>\n",
       "      <th>Other_Sales</th>\n",
       "      <th>Global_Sales</th>\n",
       "    </tr>\n",
       "  </thead>\n",
       "  <tbody>\n",
       "    <tr>\n",
       "      <th>count</th>\n",
       "      <td>16598.000000</td>\n",
       "      <td>16327.000000</td>\n",
       "      <td>16598.000000</td>\n",
       "      <td>16598.000000</td>\n",
       "      <td>16598.000000</td>\n",
       "      <td>16598.000000</td>\n",
       "      <td>16598.000000</td>\n",
       "    </tr>\n",
       "    <tr>\n",
       "      <th>mean</th>\n",
       "      <td>8300.605254</td>\n",
       "      <td>2006.406443</td>\n",
       "      <td>0.264667</td>\n",
       "      <td>0.146652</td>\n",
       "      <td>0.077782</td>\n",
       "      <td>0.048063</td>\n",
       "      <td>0.537441</td>\n",
       "    </tr>\n",
       "    <tr>\n",
       "      <th>std</th>\n",
       "      <td>4791.853933</td>\n",
       "      <td>5.828981</td>\n",
       "      <td>0.816683</td>\n",
       "      <td>0.505351</td>\n",
       "      <td>0.309291</td>\n",
       "      <td>0.188588</td>\n",
       "      <td>1.555028</td>\n",
       "    </tr>\n",
       "    <tr>\n",
       "      <th>min</th>\n",
       "      <td>1.000000</td>\n",
       "      <td>1980.000000</td>\n",
       "      <td>0.000000</td>\n",
       "      <td>0.000000</td>\n",
       "      <td>0.000000</td>\n",
       "      <td>0.000000</td>\n",
       "      <td>0.010000</td>\n",
       "    </tr>\n",
       "    <tr>\n",
       "      <th>25%</th>\n",
       "      <td>4151.250000</td>\n",
       "      <td>2003.000000</td>\n",
       "      <td>0.000000</td>\n",
       "      <td>0.000000</td>\n",
       "      <td>0.000000</td>\n",
       "      <td>0.000000</td>\n",
       "      <td>0.060000</td>\n",
       "    </tr>\n",
       "    <tr>\n",
       "      <th>50%</th>\n",
       "      <td>8300.500000</td>\n",
       "      <td>2007.000000</td>\n",
       "      <td>0.080000</td>\n",
       "      <td>0.020000</td>\n",
       "      <td>0.000000</td>\n",
       "      <td>0.010000</td>\n",
       "      <td>0.170000</td>\n",
       "    </tr>\n",
       "    <tr>\n",
       "      <th>75%</th>\n",
       "      <td>12449.750000</td>\n",
       "      <td>2010.000000</td>\n",
       "      <td>0.240000</td>\n",
       "      <td>0.110000</td>\n",
       "      <td>0.040000</td>\n",
       "      <td>0.040000</td>\n",
       "      <td>0.470000</td>\n",
       "    </tr>\n",
       "    <tr>\n",
       "      <th>max</th>\n",
       "      <td>16600.000000</td>\n",
       "      <td>2020.000000</td>\n",
       "      <td>41.490000</td>\n",
       "      <td>29.020000</td>\n",
       "      <td>10.220000</td>\n",
       "      <td>10.570000</td>\n",
       "      <td>82.740000</td>\n",
       "    </tr>\n",
       "  </tbody>\n",
       "</table>\n",
       "</div>"
      ],
      "text/plain": [
       "               Rank          Year      NA_Sales      EU_Sales      JP_Sales  \\\n",
       "count  16598.000000  16327.000000  16598.000000  16598.000000  16598.000000   \n",
       "mean    8300.605254   2006.406443      0.264667      0.146652      0.077782   \n",
       "std     4791.853933      5.828981      0.816683      0.505351      0.309291   \n",
       "min        1.000000   1980.000000      0.000000      0.000000      0.000000   \n",
       "25%     4151.250000   2003.000000      0.000000      0.000000      0.000000   \n",
       "50%     8300.500000   2007.000000      0.080000      0.020000      0.000000   \n",
       "75%    12449.750000   2010.000000      0.240000      0.110000      0.040000   \n",
       "max    16600.000000   2020.000000     41.490000     29.020000     10.220000   \n",
       "\n",
       "        Other_Sales  Global_Sales  \n",
       "count  16598.000000  16598.000000  \n",
       "mean       0.048063      0.537441  \n",
       "std        0.188588      1.555028  \n",
       "min        0.000000      0.010000  \n",
       "25%        0.000000      0.060000  \n",
       "50%        0.010000      0.170000  \n",
       "75%        0.040000      0.470000  \n",
       "max       10.570000     82.740000  "
      ]
     },
     "execution_count": 7,
     "metadata": {},
     "output_type": "execute_result"
    }
   ],
   "source": [
    "df.describe()"
   ]
  },
  {
   "cell_type": "markdown",
   "id": "8d845735",
   "metadata": {
    "papermill": {
     "duration": 0.005721,
     "end_time": "2025-09-02T20:13:12.422327",
     "exception": false,
     "start_time": "2025-09-02T20:13:12.416606",
     "status": "completed"
    },
    "tags": []
   },
   "source": [
    "## 🧹 Level 3: Clean the Map (Missing Values)\n",
    "\n",
    "Time to sweep the floor before we play.\n",
    "\n",
    "**Your tasks:**\n",
    "- Check how many missing values are in each column.\n",
    "- For this dataset, handle missing values in **`Year`** and **`Publisher`** by removing those rows.\n",
    "- Re-check to confirm there are **no missing values left**.\n",
    "\n",
    "> Tip: Do a quick sanity check after cleaning (row count should drop a bit).\n"
   ]
  },
  {
   "cell_type": "code",
   "execution_count": 8,
   "id": "16f78fc8",
   "metadata": {
    "execution": {
     "iopub.execute_input": "2025-09-02T20:13:12.435128Z",
     "iopub.status.busy": "2025-09-02T20:13:12.434832Z",
     "iopub.status.idle": "2025-09-02T20:13:12.445666Z",
     "shell.execute_reply": "2025-09-02T20:13:12.444925Z"
    },
    "papermill": {
     "duration": 0.018807,
     "end_time": "2025-09-02T20:13:12.446964",
     "exception": false,
     "start_time": "2025-09-02T20:13:12.428157",
     "status": "completed"
    },
    "tags": []
   },
   "outputs": [
    {
     "data": {
      "text/plain": [
       "Rank              0\n",
       "Name              0\n",
       "Platform          0\n",
       "Year            271\n",
       "Genre             0\n",
       "Publisher        58\n",
       "NA_Sales          0\n",
       "EU_Sales          0\n",
       "JP_Sales          0\n",
       "Other_Sales       0\n",
       "Global_Sales      0\n",
       "dtype: int64"
      ]
     },
     "execution_count": 8,
     "metadata": {},
     "output_type": "execute_result"
    }
   ],
   "source": [
    "df.isna().sum()"
   ]
  },
  {
   "cell_type": "code",
   "execution_count": 9,
   "id": "cad0598b",
   "metadata": {
    "execution": {
     "iopub.execute_input": "2025-09-02T20:13:12.460471Z",
     "iopub.status.busy": "2025-09-02T20:13:12.460149Z",
     "iopub.status.idle": "2025-09-02T20:13:12.472874Z",
     "shell.execute_reply": "2025-09-02T20:13:12.472015Z"
    },
    "papermill": {
     "duration": 0.02097,
     "end_time": "2025-09-02T20:13:12.474296",
     "exception": false,
     "start_time": "2025-09-02T20:13:12.453326",
     "status": "completed"
    },
    "tags": []
   },
   "outputs": [],
   "source": [
    "df.dropna(subset = ['Year', 'Publisher'], inplace = True)"
   ]
  },
  {
   "cell_type": "code",
   "execution_count": 10,
   "id": "2a36bc63",
   "metadata": {
    "execution": {
     "iopub.execute_input": "2025-09-02T20:13:12.487981Z",
     "iopub.status.busy": "2025-09-02T20:13:12.487458Z",
     "iopub.status.idle": "2025-09-02T20:13:12.497995Z",
     "shell.execute_reply": "2025-09-02T20:13:12.497231Z"
    },
    "papermill": {
     "duration": 0.018751,
     "end_time": "2025-09-02T20:13:12.499274",
     "exception": false,
     "start_time": "2025-09-02T20:13:12.480523",
     "status": "completed"
    },
    "tags": []
   },
   "outputs": [
    {
     "data": {
      "text/plain": [
       "Rank            0\n",
       "Name            0\n",
       "Platform        0\n",
       "Year            0\n",
       "Genre           0\n",
       "Publisher       0\n",
       "NA_Sales        0\n",
       "EU_Sales        0\n",
       "JP_Sales        0\n",
       "Other_Sales     0\n",
       "Global_Sales    0\n",
       "dtype: int64"
      ]
     },
     "execution_count": 10,
     "metadata": {},
     "output_type": "execute_result"
    }
   ],
   "source": [
    "df.isna().sum()"
   ]
  },
  {
   "cell_type": "code",
   "execution_count": 11,
   "id": "fc1a4342",
   "metadata": {
    "execution": {
     "iopub.execute_input": "2025-09-02T20:13:12.512817Z",
     "iopub.status.busy": "2025-09-02T20:13:12.512512Z",
     "iopub.status.idle": "2025-09-02T20:13:12.517671Z",
     "shell.execute_reply": "2025-09-02T20:13:12.516870Z"
    },
    "papermill": {
     "duration": 0.013361,
     "end_time": "2025-09-02T20:13:12.518956",
     "exception": false,
     "start_time": "2025-09-02T20:13:12.505595",
     "status": "completed"
    },
    "tags": []
   },
   "outputs": [
    {
     "data": {
      "text/plain": [
       "16291"
      ]
     },
     "execution_count": 11,
     "metadata": {},
     "output_type": "execute_result"
    }
   ],
   "source": [
    "len(df)"
   ]
  },
  {
   "cell_type": "markdown",
   "id": "e2969c30",
   "metadata": {
    "papermill": {
     "duration": 0.006045,
     "end_time": "2025-09-02T20:13:12.531309",
     "exception": false,
     "start_time": "2025-09-02T20:13:12.525264",
     "status": "completed"
    },
    "tags": []
   },
   "source": [
    "## 🔢 Level 4: Patch the `Year` Column (Data Types)\n",
    "\n",
    "`Year` often shows up as a float (e.g., `2008.0`) because of missing values earlier.\n",
    "\n",
    "**Your tasks:**\n",
    "- Convert **`Year`** to **integer**.\n",
    "- Re-run a quick `info` to confirm the dtype change.\n",
    "\n",
    "> If conversion fails, revisit Level 3 — some NaNs may still be lurking.\n"
   ]
  },
  {
   "cell_type": "code",
   "execution_count": 12,
   "id": "e38ec87a",
   "metadata": {
    "execution": {
     "iopub.execute_input": "2025-09-02T20:13:12.544694Z",
     "iopub.status.busy": "2025-09-02T20:13:12.544353Z",
     "iopub.status.idle": "2025-09-02T20:13:12.558069Z",
     "shell.execute_reply": "2025-09-02T20:13:12.557283Z"
    },
    "papermill": {
     "duration": 0.022179,
     "end_time": "2025-09-02T20:13:12.559376",
     "exception": false,
     "start_time": "2025-09-02T20:13:12.537197",
     "status": "completed"
    },
    "tags": []
   },
   "outputs": [
    {
     "data": {
      "text/html": [
       "<div>\n",
       "<style scoped>\n",
       "    .dataframe tbody tr th:only-of-type {\n",
       "        vertical-align: middle;\n",
       "    }\n",
       "\n",
       "    .dataframe tbody tr th {\n",
       "        vertical-align: top;\n",
       "    }\n",
       "\n",
       "    .dataframe thead th {\n",
       "        text-align: right;\n",
       "    }\n",
       "</style>\n",
       "<table border=\"1\" class=\"dataframe\">\n",
       "  <thead>\n",
       "    <tr style=\"text-align: right;\">\n",
       "      <th></th>\n",
       "      <th>Rank</th>\n",
       "      <th>Name</th>\n",
       "      <th>Platform</th>\n",
       "      <th>Year</th>\n",
       "      <th>Genre</th>\n",
       "      <th>Publisher</th>\n",
       "      <th>NA_Sales</th>\n",
       "      <th>EU_Sales</th>\n",
       "      <th>JP_Sales</th>\n",
       "      <th>Other_Sales</th>\n",
       "      <th>Global_Sales</th>\n",
       "    </tr>\n",
       "  </thead>\n",
       "  <tbody>\n",
       "    <tr>\n",
       "      <th>0</th>\n",
       "      <td>1</td>\n",
       "      <td>Wii Sports</td>\n",
       "      <td>Wii</td>\n",
       "      <td>2006</td>\n",
       "      <td>Sports</td>\n",
       "      <td>Nintendo</td>\n",
       "      <td>41.49</td>\n",
       "      <td>29.02</td>\n",
       "      <td>3.77</td>\n",
       "      <td>8.46</td>\n",
       "      <td>82.74</td>\n",
       "    </tr>\n",
       "    <tr>\n",
       "      <th>1</th>\n",
       "      <td>2</td>\n",
       "      <td>Super Mario Bros.</td>\n",
       "      <td>NES</td>\n",
       "      <td>1985</td>\n",
       "      <td>Platform</td>\n",
       "      <td>Nintendo</td>\n",
       "      <td>29.08</td>\n",
       "      <td>3.58</td>\n",
       "      <td>6.81</td>\n",
       "      <td>0.77</td>\n",
       "      <td>40.24</td>\n",
       "    </tr>\n",
       "    <tr>\n",
       "      <th>2</th>\n",
       "      <td>3</td>\n",
       "      <td>Mario Kart Wii</td>\n",
       "      <td>Wii</td>\n",
       "      <td>2008</td>\n",
       "      <td>Racing</td>\n",
       "      <td>Nintendo</td>\n",
       "      <td>15.85</td>\n",
       "      <td>12.88</td>\n",
       "      <td>3.79</td>\n",
       "      <td>3.31</td>\n",
       "      <td>35.82</td>\n",
       "    </tr>\n",
       "    <tr>\n",
       "      <th>3</th>\n",
       "      <td>4</td>\n",
       "      <td>Wii Sports Resort</td>\n",
       "      <td>Wii</td>\n",
       "      <td>2009</td>\n",
       "      <td>Sports</td>\n",
       "      <td>Nintendo</td>\n",
       "      <td>15.75</td>\n",
       "      <td>11.01</td>\n",
       "      <td>3.28</td>\n",
       "      <td>2.96</td>\n",
       "      <td>33.00</td>\n",
       "    </tr>\n",
       "    <tr>\n",
       "      <th>4</th>\n",
       "      <td>5</td>\n",
       "      <td>Pokemon Red/Pokemon Blue</td>\n",
       "      <td>GB</td>\n",
       "      <td>1996</td>\n",
       "      <td>Role-Playing</td>\n",
       "      <td>Nintendo</td>\n",
       "      <td>11.27</td>\n",
       "      <td>8.89</td>\n",
       "      <td>10.22</td>\n",
       "      <td>1.00</td>\n",
       "      <td>31.37</td>\n",
       "    </tr>\n",
       "  </tbody>\n",
       "</table>\n",
       "</div>"
      ],
      "text/plain": [
       "   Rank                      Name Platform  Year         Genre Publisher  \\\n",
       "0     1                Wii Sports      Wii  2006        Sports  Nintendo   \n",
       "1     2         Super Mario Bros.      NES  1985      Platform  Nintendo   \n",
       "2     3            Mario Kart Wii      Wii  2008        Racing  Nintendo   \n",
       "3     4         Wii Sports Resort      Wii  2009        Sports  Nintendo   \n",
       "4     5  Pokemon Red/Pokemon Blue       GB  1996  Role-Playing  Nintendo   \n",
       "\n",
       "   NA_Sales  EU_Sales  JP_Sales  Other_Sales  Global_Sales  \n",
       "0     41.49     29.02      3.77         8.46         82.74  \n",
       "1     29.08      3.58      6.81         0.77         40.24  \n",
       "2     15.85     12.88      3.79         3.31         35.82  \n",
       "3     15.75     11.01      3.28         2.96         33.00  \n",
       "4     11.27      8.89     10.22         1.00         31.37  "
      ]
     },
     "execution_count": 12,
     "metadata": {},
     "output_type": "execute_result"
    }
   ],
   "source": [
    "df['Year'] = df['Year'].astype(int)\n",
    "df.head()"
   ]
  },
  {
   "cell_type": "code",
   "execution_count": 13,
   "id": "6b3242e0",
   "metadata": {
    "execution": {
     "iopub.execute_input": "2025-09-02T20:13:12.573231Z",
     "iopub.status.busy": "2025-09-02T20:13:12.572960Z",
     "iopub.status.idle": "2025-09-02T20:13:12.595785Z",
     "shell.execute_reply": "2025-09-02T20:13:12.594892Z"
    },
    "papermill": {
     "duration": 0.031397,
     "end_time": "2025-09-02T20:13:12.597243",
     "exception": false,
     "start_time": "2025-09-02T20:13:12.565846",
     "status": "completed"
    },
    "tags": []
   },
   "outputs": [
    {
     "name": "stdout",
     "output_type": "stream",
     "text": [
      "<class 'pandas.core.frame.DataFrame'>\n",
      "Index: 16291 entries, 0 to 16597\n",
      "Data columns (total 11 columns):\n",
      " #   Column        Non-Null Count  Dtype  \n",
      "---  ------        --------------  -----  \n",
      " 0   Rank          16291 non-null  int64  \n",
      " 1   Name          16291 non-null  object \n",
      " 2   Platform      16291 non-null  object \n",
      " 3   Year          16291 non-null  int64  \n",
      " 4   Genre         16291 non-null  object \n",
      " 5   Publisher     16291 non-null  object \n",
      " 6   NA_Sales      16291 non-null  float64\n",
      " 7   EU_Sales      16291 non-null  float64\n",
      " 8   JP_Sales      16291 non-null  float64\n",
      " 9   Other_Sales   16291 non-null  float64\n",
      " 10  Global_Sales  16291 non-null  float64\n",
      "dtypes: float64(5), int64(2), object(4)\n",
      "memory usage: 1.5+ MB\n"
     ]
    }
   ],
   "source": [
    "df.info()"
   ]
  },
  {
   "cell_type": "markdown",
   "id": "8d8fff5b",
   "metadata": {
    "papermill": {
     "duration": 0.006255,
     "end_time": "2025-09-02T20:13:12.609982",
     "exception": false,
     "start_time": "2025-09-02T20:13:12.603727",
     "status": "completed"
    },
    "tags": []
   },
   "source": [
    "\n",
    "## 🎮 Level 5: Spotting the Legends  \n",
    "Now that we’ve explored platforms and genres, let’s look at the **all-time best sellers**.  \n",
    "Your task:  \n",
    "\n",
    "List the **Top 5 best-selling video games**.  \n",
    "We’ll display their **Name, Platform, Genre, and Global Sales**.  \n",
    "\n",
    "Think of this as the **Hall of Fame of Video Games** \n",
    "\n",
    "\n"
   ]
  },
  {
   "cell_type": "code",
   "execution_count": 14,
   "id": "e46167ce",
   "metadata": {
    "execution": {
     "iopub.execute_input": "2025-09-02T20:13:12.624179Z",
     "iopub.status.busy": "2025-09-02T20:13:12.623576Z",
     "iopub.status.idle": "2025-09-02T20:13:12.635364Z",
     "shell.execute_reply": "2025-09-02T20:13:12.634682Z"
    },
    "papermill": {
     "duration": 0.020318,
     "end_time": "2025-09-02T20:13:12.636710",
     "exception": false,
     "start_time": "2025-09-02T20:13:12.616392",
     "status": "completed"
    },
    "tags": []
   },
   "outputs": [
    {
     "data": {
      "text/html": [
       "<div>\n",
       "<style scoped>\n",
       "    .dataframe tbody tr th:only-of-type {\n",
       "        vertical-align: middle;\n",
       "    }\n",
       "\n",
       "    .dataframe tbody tr th {\n",
       "        vertical-align: top;\n",
       "    }\n",
       "\n",
       "    .dataframe thead th {\n",
       "        text-align: right;\n",
       "    }\n",
       "</style>\n",
       "<table border=\"1\" class=\"dataframe\">\n",
       "  <thead>\n",
       "    <tr style=\"text-align: right;\">\n",
       "      <th></th>\n",
       "      <th>Name</th>\n",
       "      <th>Platform</th>\n",
       "      <th>Genre</th>\n",
       "      <th>Global_Sales</th>\n",
       "    </tr>\n",
       "  </thead>\n",
       "  <tbody>\n",
       "    <tr>\n",
       "      <th>0</th>\n",
       "      <td>Wii Sports</td>\n",
       "      <td>Wii</td>\n",
       "      <td>Sports</td>\n",
       "      <td>82.74</td>\n",
       "    </tr>\n",
       "    <tr>\n",
       "      <th>1</th>\n",
       "      <td>Super Mario Bros.</td>\n",
       "      <td>NES</td>\n",
       "      <td>Platform</td>\n",
       "      <td>40.24</td>\n",
       "    </tr>\n",
       "    <tr>\n",
       "      <th>2</th>\n",
       "      <td>Mario Kart Wii</td>\n",
       "      <td>Wii</td>\n",
       "      <td>Racing</td>\n",
       "      <td>35.82</td>\n",
       "    </tr>\n",
       "    <tr>\n",
       "      <th>3</th>\n",
       "      <td>Wii Sports Resort</td>\n",
       "      <td>Wii</td>\n",
       "      <td>Sports</td>\n",
       "      <td>33.00</td>\n",
       "    </tr>\n",
       "    <tr>\n",
       "      <th>4</th>\n",
       "      <td>Pokemon Red/Pokemon Blue</td>\n",
       "      <td>GB</td>\n",
       "      <td>Role-Playing</td>\n",
       "      <td>31.37</td>\n",
       "    </tr>\n",
       "  </tbody>\n",
       "</table>\n",
       "</div>"
      ],
      "text/plain": [
       "                       Name Platform         Genre  Global_Sales\n",
       "0                Wii Sports      Wii        Sports         82.74\n",
       "1         Super Mario Bros.      NES      Platform         40.24\n",
       "2            Mario Kart Wii      Wii        Racing         35.82\n",
       "3         Wii Sports Resort      Wii        Sports         33.00\n",
       "4  Pokemon Red/Pokemon Blue       GB  Role-Playing         31.37"
      ]
     },
     "execution_count": 14,
     "metadata": {},
     "output_type": "execute_result"
    }
   ],
   "source": [
    "df[['Name', 'Platform', 'Genre', 'Global_Sales']].sort_values('Global_Sales', ascending = False).head()"
   ]
  },
  {
   "cell_type": "markdown",
   "id": "6c286229",
   "metadata": {
    "papermill": {
     "duration": 0.006398,
     "end_time": "2025-09-02T20:13:12.649708",
     "exception": false,
     "start_time": "2025-09-02T20:13:12.643310",
     "status": "completed"
    },
    "tags": []
   },
   "source": [
    "\n",
    "## 🎮 Level 6: Which Console Ruled the Game?  \n",
    "Every console/platform has a legacy — but which one released the **most number of games**?  \n",
    "\n",
    "Count the number of games released on each platform.  \n",
    "Create a **bar chart** to visualize it.  \n",
    "Finally, answer: **Which platform has the highest number of releases?** \n",
    "\n",
    "  \n"
   ]
  },
  {
   "cell_type": "code",
   "execution_count": 15,
   "id": "d9e52e76",
   "metadata": {
    "execution": {
     "iopub.execute_input": "2025-09-02T20:13:12.664098Z",
     "iopub.status.busy": "2025-09-02T20:13:12.663501Z",
     "iopub.status.idle": "2025-09-02T20:13:12.670305Z",
     "shell.execute_reply": "2025-09-02T20:13:12.669465Z"
    },
    "papermill": {
     "duration": 0.015645,
     "end_time": "2025-09-02T20:13:12.671723",
     "exception": false,
     "start_time": "2025-09-02T20:13:12.656078",
     "status": "completed"
    },
    "tags": []
   },
   "outputs": [
    {
     "name": "stdout",
     "output_type": "stream",
     "text": [
      "Platform\n",
      "DS      2131\n",
      "PS2     2127\n",
      "PS3     1304\n",
      "Wii     1290\n",
      "X360    1234\n",
      "PSP     1197\n",
      "PS      1189\n",
      "PC       938\n",
      "XB       803\n",
      "GBA      786\n",
      "GC       542\n",
      "3DS      499\n",
      "PSV      410\n",
      "PS4      336\n",
      "N64      316\n",
      "SNES     239\n",
      "XOne     213\n",
      "SAT      173\n",
      "WiiU     143\n",
      "2600     116\n",
      "NES       98\n",
      "GB        97\n",
      "DC        52\n",
      "GEN       27\n",
      "NG        12\n",
      "SCD        6\n",
      "WS         6\n",
      "3DO        3\n",
      "TG16       2\n",
      "GG         1\n",
      "PCFX       1\n",
      "Name: count, dtype: int64\n"
     ]
    }
   ],
   "source": [
    "game_count = df['Platform'].value_counts()\n",
    "print(game_count)"
   ]
  },
  {
   "cell_type": "code",
   "execution_count": 16,
   "id": "f08e863f",
   "metadata": {
    "execution": {
     "iopub.execute_input": "2025-09-02T20:13:12.686260Z",
     "iopub.status.busy": "2025-09-02T20:13:12.685983Z",
     "iopub.status.idle": "2025-09-02T20:13:13.225833Z",
     "shell.execute_reply": "2025-09-02T20:13:13.224999Z"
    },
    "papermill": {
     "duration": 0.548718,
     "end_time": "2025-09-02T20:13:13.227258",
     "exception": false,
     "start_time": "2025-09-02T20:13:12.678540",
     "status": "completed"
    },
    "tags": []
   },
   "outputs": [
    {
     "data": {
      "text/plain": [
       "<Axes: xlabel='Platform'>"
      ]
     },
     "execution_count": 16,
     "metadata": {},
     "output_type": "execute_result"
    },
    {
     "data": {
      "image/png": "[encoded data removed]",
      "text/plain": [
       "<Figure size 640x480 with 1 Axes>"
      ]
     },
     "metadata": {},
     "output_type": "display_data"
    }
   ],
   "source": [
    "game_count.plot(kind = \"bar\")"
   ]
  },
  {
   "cell_type": "code",
   "execution_count": 17,
   "id": "666ed0e4",
   "metadata": {
    "execution": {
     "iopub.execute_input": "2025-09-02T20:13:13.243551Z",
     "iopub.status.busy": "2025-09-02T20:13:13.243208Z",
     "iopub.status.idle": "2025-09-02T20:13:13.248017Z",
     "shell.execute_reply": "2025-09-02T20:13:13.247191Z"
    },
    "papermill": {
     "duration": 0.01434,
     "end_time": "2025-09-02T20:13:13.249237",
     "exception": false,
     "start_time": "2025-09-02T20:13:13.234897",
     "status": "completed"
    },
    "tags": []
   },
   "outputs": [
    {
     "name": "stdout",
     "output_type": "stream",
     "text": [
      "Maximum Releases: DS\n"
     ]
    }
   ],
   "source": [
    "print(\"Maximum Releases:\", game_count.idxmax())"
   ]
  },
  {
   "cell_type": "markdown",
   "id": "f9c24958",
   "metadata": {
    "papermill": {
     "duration": 0.007204,
     "end_time": "2025-09-02T20:13:13.264025",
     "exception": false,
     "start_time": "2025-09-02T20:13:13.256821",
     "status": "completed"
    },
    "tags": []
   },
   "source": [
    "\n",
    "## 🏢 Level 7: The Big Bosses (Top Publishers)  \n",
    "Some publishers dominate the industry like final bosses \n",
    "\n",
    "Your task:  \n",
    "- Find the **Top 5 publishers** with the highest **total Global Sales**.  \n",
    "- Show their contribution using a **pie chart** \n",
    "\n",
    "This will help us see who really controlled the gaming world  \n"
   ]
  },
  {
   "cell_type": "code",
   "execution_count": 18,
   "id": "cbc8ef81",
   "metadata": {
    "execution": {
     "iopub.execute_input": "2025-09-02T20:13:13.280626Z",
     "iopub.status.busy": "2025-09-02T20:13:13.280285Z",
     "iopub.status.idle": "2025-09-02T20:13:13.289905Z",
     "shell.execute_reply": "2025-09-02T20:13:13.289004Z"
    },
    "papermill": {
     "duration": 0.019189,
     "end_time": "2025-09-02T20:13:13.291228",
     "exception": false,
     "start_time": "2025-09-02T20:13:13.272039",
     "status": "completed"
    },
    "tags": []
   },
   "outputs": [
    {
     "name": "stdout",
     "output_type": "stream",
     "text": [
      "Publisher\n",
      "Nintendo                       1784.43\n",
      "Electronic Arts                1093.39\n",
      "Activision                      721.41\n",
      "Sony Computer Entertainment     607.28\n",
      "Ubisoft                         473.54\n",
      "Name: Global_Sales, dtype: float64\n"
     ]
    }
   ],
   "source": [
    "top_pub = df.groupby('Publisher')['Global_Sales'].sum().sort_values(ascending = False).head(5)\n",
    "print(top_pub)\n"
   ]
  },
  {
   "cell_type": "code",
   "execution_count": 19,
   "id": "b2260f3f",
   "metadata": {
    "execution": {
     "iopub.execute_input": "2025-09-02T20:13:13.307981Z",
     "iopub.status.busy": "2025-09-02T20:13:13.307319Z",
     "iopub.status.idle": "2025-09-02T20:13:13.428242Z",
     "shell.execute_reply": "2025-09-02T20:13:13.427339Z"
    },
    "papermill": {
     "duration": 0.130795,
     "end_time": "2025-09-02T20:13:13.429735",
     "exception": false,
     "start_time": "2025-09-02T20:13:13.298940",
     "status": "completed"
    },
    "tags": []
   },
   "outputs": [
    {
     "data": {
      "text/plain": [
       "Text(0, 0.5, '')"
      ]
     },
     "execution_count": 19,
     "metadata": {},
     "output_type": "execute_result"
    },
    {
     "data": {
      "image/png": "[encoded data removed]",
      "text/plain": [
       "<Figure size 640x480 with 1 Axes>"
      ]
     },
     "metadata": {},
     "output_type": "display_data"
    }
   ],
   "source": [
    "top_pub.plot(kind = \"pie\")\n",
    "plt.ylabel(\"\")"
   ]
  },
  {
   "cell_type": "markdown",
   "id": "44de2e17",
   "metadata": {
    "papermill": {
     "duration": 0.007836,
     "end_time": "2025-09-02T20:13:13.445824",
     "exception": false,
     "start_time": "2025-09-02T20:13:13.437988",
     "status": "completed"
    },
    "tags": []
   },
   "source": [
    "\n",
    "## 🌍 Level 8: Genre Champions in Europe  \n",
    "Different genres have their own kings in different regions.  \n",
    "Let’s focus on **Europe (EU Sales)** for now.  \n",
    "\n",
    "Your task:  \n",
    "- For **each Genre**, find the **Publisher** that has the highest **total EU Sales**.  \n",
    "- Print the results as a list (Genre → Top Publisher).  \n",
    "\n",
    "Think of this as awarding the **regional championship belts**  \n",
    "\n"
   ]
  },
  {
   "cell_type": "code",
   "execution_count": 20,
   "id": "101632e1",
   "metadata": {
    "execution": {
     "iopub.execute_input": "2025-09-02T20:13:13.463008Z",
     "iopub.status.busy": "2025-09-02T20:13:13.462701Z",
     "iopub.status.idle": "2025-09-02T20:13:13.478430Z",
     "shell.execute_reply": "2025-09-02T20:13:13.477512Z"
    },
    "papermill": {
     "duration": 0.02619,
     "end_time": "2025-09-02T20:13:13.480022",
     "exception": false,
     "start_time": "2025-09-02T20:13:13.453832",
     "status": "completed"
    },
    "tags": []
   },
   "outputs": [
    {
     "name": "stdout",
     "output_type": "stream",
     "text": [
      "Action → Take-Two Interactive\n",
      "Adventure → Ubisoft\n",
      "Fighting → THQ\n",
      "Misc → Nintendo\n",
      "Platform → Nintendo\n",
      "Puzzle → Nintendo\n",
      "Racing → Electronic Arts\n",
      "Role-Playing → Nintendo\n",
      "Shooter → Activision\n",
      "Simulation → Electronic Arts\n",
      "Sports → Electronic Arts\n",
      "Strategy → Activision\n"
     ]
    }
   ],
   "source": [
    "genre_pub_sales = df.groupby(['Genre', 'Publisher'])['EU_Sales'].sum().reset_index()\n",
    "genre_pub_sales = genre_pub_sales.sort_values(['Genre', 'EU_Sales'], ascending=[True, False])\n",
    "top_pub_per_genre = genre_pub_sales.drop_duplicates(subset=['Genre'], keep='first')\n",
    "for _, row in top_pub_per_genre.iterrows():\n",
    "    print(f\"{row['Genre']} → {row['Publisher']}\")"
   ]
  },
  {
   "cell_type": "markdown",
   "id": "c8b001d0",
   "metadata": {
    "papermill": {
     "duration": 0.008478,
     "end_time": "2025-09-02T20:13:13.496825",
     "exception": false,
     "start_time": "2025-09-02T20:13:13.488347",
     "status": "completed"
    },
    "tags": []
   },
   "source": [
    "\n",
    "## 🎯 Level 9: Nintendo’s Golden Year  \n",
    "Nintendo is one of the biggest names in gaming 🎮  \n",
    "But… which year did Nintendo achieve its **highest total Global Sales**?  \n",
    "\n",
    "Your task:  \n",
    "- Filter the dataset for **Publisher = Nintendo**.  \n",
    "- Group sales by year.  \n",
    "- Find the year with the **highest global sales**.  \n",
    "\n",
    "This is like uncovering the **peak of Nintendo’s power**   \n",
    "\n"
   ]
  },
  {
   "cell_type": "code",
   "execution_count": 21,
   "id": "2a6f1db2",
   "metadata": {
    "execution": {
     "iopub.execute_input": "2025-09-02T20:13:13.515089Z",
     "iopub.status.busy": "2025-09-02T20:13:13.514310Z",
     "iopub.status.idle": "2025-09-02T20:13:13.523491Z",
     "shell.execute_reply": "2025-09-02T20:13:13.522646Z"
    },
    "papermill": {
     "duration": 0.019661,
     "end_time": "2025-09-02T20:13:13.524862",
     "exception": false,
     "start_time": "2025-09-02T20:13:13.505201",
     "status": "completed"
    },
    "tags": []
   },
   "outputs": [
    {
     "name": "stdout",
     "output_type": "stream",
     "text": [
      "Year with Highest Global Sales: 2006\n"
     ]
    }
   ],
   "source": [
    "df_nintendo = df[df['Publisher'] == 'Nintendo']\n",
    "sales_by_year = df_nintendo.groupby('Year')['Global_Sales'].sum().reset_index()\n",
    "year = sales_by_year.loc[sales_by_year['Global_Sales'].idxmax()]\n",
    "print(f\"Year with Highest Global Sales: {int(year['Year'])}\")"
   ]
  },
  {
   "cell_type": "markdown",
   "id": "df65fa2f",
   "metadata": {
    "papermill": {
     "duration": 0.068791,
     "end_time": "2025-09-02T20:13:13.601903",
     "exception": false,
     "start_time": "2025-09-02T20:13:13.533112",
     "status": "completed"
    },
    "tags": []
   },
   "source": [
    "\n",
    "## 🏟️ Final Boss Arena: The Data Playground  \n",
    "\n",
    "You’ve fought through all the levels ⚔️, now it’s time to explore on your own 🎉  \n",
    "\n",
    "Your final mission:  \n",
    "- Choose **any 2–3 plots** (your choice!) that show **interesting patterns** in the data.   \n",
    "\n",
    "💡 This is your **creative zone** → Think of it as building your own “story” from the dataset.  \n",
    "\n",
    "When you’re done, share your best plot with the team — let’s see who finds the coolest insight!  \n",
    "\n"
   ]
  },
  {
   "cell_type": "code",
   "execution_count": 22,
   "id": "9851fff9",
   "metadata": {
    "execution": {
     "iopub.execute_input": "2025-09-02T20:13:13.620221Z",
     "iopub.status.busy": "2025-09-02T20:13:13.619604Z",
     "iopub.status.idle": "2025-09-02T20:13:14.183740Z",
     "shell.execute_reply": "2025-09-02T20:13:14.182832Z"
    },
    "papermill": {
     "duration": 0.5752,
     "end_time": "2025-09-02T20:13:14.185353",
     "exception": false,
     "start_time": "2025-09-02T20:13:13.610153",
     "status": "completed"
    },
    "tags": []
   },
   "outputs": [
    {
     "data": {
      "image/png": "[encoded data removed]",
      "text/plain": [
       "<Figure size 640x480 with 1 Axes>"
      ]
     },
     "metadata": {},
     "output_type": "display_data"
    },
    {
     "data": {
      "image/png": "[encoded data removed]",
      "text/plain": [
       "<Figure size 640x480 with 1 Axes>"
      ]
     },
     "metadata": {},
     "output_type": "display_data"
    },
    {
     "data": {
      "image/png": "[encoded data removed]",
      "text/plain": [
       "<Figure size 640x480 with 1 Axes>"
      ]
     },
     "metadata": {},
     "output_type": "display_data"
    }
   ],
   "source": [
    "yearly_sales = df.groupby('Year')['Global_Sales'].sum().reset_index()\n",
    "plt.plot(yearly_sales['Year'], yearly_sales['Global_Sales'])\n",
    "plt.title(\"Global Sales Trend Over Time\")\n",
    "plt.xlabel(\"Year\")\n",
    "plt.ylabel(\"Global Sales (millions)\")\n",
    "plt.show()\n",
    "\n",
    "top_games = df.nlargest(10, 'Global_Sales')\n",
    "plt.barh(top_games['Name'], top_games['Global_Sales'])\n",
    "plt.gca().invert_yaxis()\n",
    "plt.title(\"Top Games (Global Sales)\")\n",
    "plt.xlabel(\"Global Sales (millions)\")\n",
    "plt.ylabel(\"Game Title\")\n",
    "plt.show()\n",
    "\n",
    "genre_sales = df.groupby('Genre')['Global_Sales'].sum().sort_values(ascending=False)\n",
    "genre_sales.plot(kind='bar')\n",
    "plt.title(\"Total Global Sales by Genre\")\n",
    "plt.xlabel(\"Genre\")\n",
    "plt.ylabel(\"Global Sales (millions)\")\n",
    "plt.show()"
   ]
  }
 ],
 "metadata": {
  "kaggle": {
   "accelerator": "none",
   "dataSources": [
    {
     "datasetId": 284,
     "sourceId": 618,
     "sourceType": "datasetVersion"
    }
   ],
   "dockerImageVersionId": 31089,
   "isGpuEnabled": false,
   "isInternetEnabled": false,
   "language": "python",
   "sourceType": "notebook"
  },
  "kernelspec": {
   "display_name": "Python 3",
   "language": "python",
   "name": "python3"
  },
  "language_info": {
   "codemirror_mode": {
    "name": "ipython",
    "version": 3
   },
   "file_extension": ".py",
   "mimetype": "text/x-python",
   "name": "python",
   "nbconvert_exporter": "python",
   "pygments_lexer": "ipython3",
   "version": "3.11.13"
  },
  "papermill": {
   "default_parameters": {},
   "duration": 11.152005,
   "end_time": "2025-09-02T20:13:14.817185",
   "environment_variables": {},
   "exception": null,
   "input_path": "__notebook__.ipynb",
   "output_path": "__notebook__.ipynb",
   "parameters": {},
   "start_time": "2025-09-02T20:13:03.665180",
   "version": "2.6.0"
  }
 },
 "nbformat": 4,
 "nbformat_minor": 5
}
